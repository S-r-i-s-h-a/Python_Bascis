{
  "nbformat": 4,
  "nbformat_minor": 0,
  "metadata": {
    "colab": {
      "provenance": []
    },
    "kernelspec": {
      "name": "python3",
      "display_name": "Python 3"
    },
    "language_info": {
      "name": "python"
    }
  },
  "cells": [
    {
      "cell_type": "markdown",
      "source": [
        "1.\tWrite a function wish(name) that returns \"Hello, Good Morning <name>!\"."
      ],
      "metadata": {
        "id": "QIUi6lAikh29"
      }
    },
    {
      "cell_type": "code",
      "execution_count": null,
      "metadata": {
        "colab": {
          "base_uri": "https://localhost:8080/"
        },
        "id": "CvT3JsJykLTh",
        "outputId": "8ed23790-0ebe-49a7-ba75-a26908149cba"
      },
      "outputs": [
        {
          "output_type": "stream",
          "name": "stdout",
          "text": [
            "Hello, Good Morning Abc!\n",
            "Hello, Good Morning xyz!\n"
          ]
        }
      ],
      "source": [
        "def wish(name):\n",
        "  return f\"Hello, Good Morning {name}!\"\n",
        "\n",
        "print(wish(\"Abc\"))\n",
        "print(wish(\"xyz\"))"
      ]
    },
    {
      "cell_type": "markdown",
      "source": [
        "2.\tWrite a function cube(n) that returns the cube of a number (n³)."
      ],
      "metadata": {
        "id": "eV_nqzvWk1ns"
      }
    },
    {
      "cell_type": "code",
      "source": [
        "def cube_(n):\n",
        "  return n**3\n",
        "n= float(input(\"Enter a number\"))\n",
        "print(f\"Cube of {n} is {cube_(n)}\")"
      ],
      "metadata": {
        "colab": {
          "base_uri": "https://localhost:8080/"
        },
        "id": "D49jwb8vk4N_",
        "outputId": "58ffbcb3-1276-4370-f692-d31c0fe23a13"
      },
      "execution_count": null,
      "outputs": [
        {
          "output_type": "stream",
          "name": "stdout",
          "text": [
            "Enter a number12\n",
            "Cube of 12.0 is 1728.0\n"
          ]
        }
      ]
    },
    {
      "cell_type": "markdown",
      "source": [
        "3.\tWrite a function check_even(n) that returns True if the number is even, else False."
      ],
      "metadata": {
        "id": "Xpqrqqbfl06B"
      }
    },
    {
      "cell_type": "code",
      "source": [
        "def check_even(n):\n",
        "  if n % 2 == 0:\n",
        "    return True\n",
        "  else:\n",
        "    return False\n",
        "n= int(input(\"Enter a number\"))\n",
        "print(check_even(n))"
      ],
      "metadata": {
        "colab": {
          "base_uri": "https://localhost:8080/"
        },
        "id": "aQ-0YITrl3V4",
        "outputId": "7364cac5-3bad-49d6-e226-9995102f6d6c"
      },
      "execution_count": null,
      "outputs": [
        {
          "output_type": "stream",
          "name": "stdout",
          "text": [
            "Enter a number23\n",
            "False\n"
          ]
        }
      ]
    },
    {
      "cell_type": "markdown",
      "source": [
        "4.\tWrite a function greatest_of_two(a, b) that returns the larger of two numbers"
      ],
      "metadata": {
        "id": "_FnYJWsBmGwc"
      }
    },
    {
      "cell_type": "code",
      "source": [
        "def greates_of_two(a,b):\n",
        "  if a >b:\n",
        "    return a\n",
        "  return b\n",
        "\n",
        "a,b = list(map(int,input(\"Enter two numbers\").split()))\n",
        "print(f\"Greatest of {a} and {b} is {greates_of_two(a,b)}\")"
      ],
      "metadata": {
        "colab": {
          "base_uri": "https://localhost:8080/"
        },
        "id": "UIYUTRQgmJJJ",
        "outputId": "774f52a6-3435-4cc0-c934-1c8f752837e3"
      },
      "execution_count": null,
      "outputs": [
        {
          "output_type": "stream",
          "name": "stdout",
          "text": [
            "Enter two numbers2 45\n",
            "Greatest of 2 and 45 is 45\n"
          ]
        }
      ]
    },
    {
      "cell_type": "markdown",
      "source": [
        "5.\tWrite a function count_letters(s) that returns the number of characters in a string."
      ],
      "metadata": {
        "id": "D32ut03Ym5gm"
      }
    },
    {
      "cell_type": "code",
      "source": [
        "def count_letters(str1):\n",
        "  return len(str1)\n",
        "inp = input(\"Enter a string\")\n",
        "print(f\"Number of chars in string:{count_letters(inp)}\")"
      ],
      "metadata": {
        "colab": {
          "base_uri": "https://localhost:8080/"
        },
        "id": "aIrFpSs_nCLo",
        "outputId": "6d21a044-404f-412d-c8a5-779f8827a122"
      },
      "execution_count": null,
      "outputs": [
        {
          "output_type": "stream",
          "name": "stdout",
          "text": [
            "Enter a stringstring\n",
            "Number of chars in string:6\n"
          ]
        }
      ]
    },
    {
      "cell_type": "markdown",
      "source": [
        "6.\tWrite a function power(value, exp=2) that returns the number raised to the power exp. (Default exponent = 2)"
      ],
      "metadata": {
        "id": "L_KcpDDvn5Pa"
      }
    },
    {
      "cell_type": "code",
      "source": [
        "def power(value, exp=2):\n",
        "  return value**exp\n",
        "\n",
        "print(power(2,3))\n",
        "print(power(2))\n",
        "#"
      ],
      "metadata": {
        "colab": {
          "base_uri": "https://localhost:8080/"
        },
        "id": "vMpxNrg3n-Li",
        "outputId": "f9326a0c-9386-45fb-9d09-dafdbb84ea2a"
      },
      "execution_count": null,
      "outputs": [
        {
          "output_type": "stream",
          "name": "stdout",
          "text": [
            "8\n",
            "4\n"
          ]
        }
      ]
    },
    {
      "cell_type": "markdown",
      "source": [
        "7.\tWrite a function swap(a, b) that returns the two values swapped as a tuple."
      ],
      "metadata": {
        "id": "Ny2EpWc2ou5X"
      }
    },
    {
      "cell_type": "code",
      "source": [
        "def swap(a,b):\n",
        "  return b,a\n",
        "\n",
        "a,b = list(map(int,input(\"Enter the numbers ot be swapped\").split()))\n",
        "print(f\"Swapped numbers are {swap(a,b)}\")\n"
      ],
      "metadata": {
        "colab": {
          "base_uri": "https://localhost:8080/"
        },
        "id": "ScVQnBCkoOyN",
        "outputId": "c13f0ed5-8e0e-49a4-d624-b98805d547ee"
      },
      "execution_count": null,
      "outputs": [
        {
          "output_type": "stream",
          "name": "stdout",
          "text": [
            "Enter the numbers ot be swapped1 3\n",
            "Swapped numbers are (3, 1)\n"
          ]
        }
      ]
    },
    {
      "cell_type": "markdown",
      "source": [
        "8.\tWrite a function add_sub(a, b) that returns both sum and difference of two numbers."
      ],
      "metadata": {
        "id": "GARIlms1pJCx"
      }
    },
    {
      "cell_type": "code",
      "source": [
        "def add_sub(a,b):\n",
        "  return a+b, a-b\n",
        "\n",
        "a , b = list(map(int,input(\"Enter two numbers\").split()))\n",
        "print(f\"Sum of {a} and {b} is {add_sub(a,b)[0]}, difference is {add_sub(a,b)[1]}\")"
      ],
      "metadata": {
        "colab": {
          "base_uri": "https://localhost:8080/"
        },
        "id": "Z1HzydTGpCr6",
        "outputId": "7428d802-c2cd-44d5-df02-438b0b1669bf"
      },
      "execution_count": null,
      "outputs": [
        {
          "output_type": "stream",
          "name": "stdout",
          "text": [
            "Enter two numbers1 2\n",
            "Sum of 1 and 2 is 3, difference is -1\n"
          ]
        }
      ]
    },
    {
      "cell_type": "markdown",
      "source": [
        "9.\tWrite a function circle_stats(radius) that returns the area and circumference as a tuple."
      ],
      "metadata": {
        "id": "z5LK2-dhpnDm"
      }
    },
    {
      "cell_type": "code",
      "source": [
        "def circle_stats(radius):\n",
        "  return 3.14*radius*radius, 2*3.14*radius\n",
        "\n",
        "r = float(input(\"Enter radius\"))\n",
        "print(f\"Area and circumference of circle with radius {r} are {circle_stats(r)}\")\n",
        "#"
      ],
      "metadata": {
        "colab": {
          "base_uri": "https://localhost:8080/"
        },
        "id": "8hnyGb_9pZEX",
        "outputId": "1836a791-f847-4847-c17a-3c9556b6ff1e"
      },
      "execution_count": null,
      "outputs": [
        {
          "output_type": "stream",
          "name": "stdout",
          "text": [
            "Enter radius2\n",
            "Area and circumference of circle with radius 2.0 are (12.56, 12.56)\n"
          ]
        }
      ]
    },
    {
      "cell_type": "markdown",
      "source": [
        "10.\tWrite a function min_max_sum(nums) that returns the minimum, maximum, and sum of a list."
      ],
      "metadata": {
        "id": "fWmbzbRap2RN"
      }
    },
    {
      "cell_type": "code",
      "source": [
        "def min_max_sum(nums):\n",
        "  return min(nums), max(nums), sum(nums)\n",
        "\n",
        "li = list(map(float,input(\"Enter the numbers\").split()))\n",
        "print(f\"Min: {min_max_sum(li)[0]}, Max: {min_max_sum(li)[1]}, Sum: {min_max_sum(li)[2]}\")"
      ],
      "metadata": {
        "colab": {
          "base_uri": "https://localhost:8080/"
        },
        "id": "XpNWZvOBp4LS",
        "outputId": "98af9639-3109-4051-e6c9-693caafdac7c"
      },
      "execution_count": null,
      "outputs": [
        {
          "output_type": "stream",
          "name": "stdout",
          "text": [
            "Enter the numbers1 2.5 4\n",
            "Min: 1.0, Max: 4.0, Sum: 7.5\n"
          ]
        }
      ]
    },
    {
      "cell_type": "markdown",
      "source": [
        "11.\tWrite a function concat(*parts) that joins multiple strings together with spaces."
      ],
      "metadata": {
        "id": "C1l8nvAZqFjY"
      }
    },
    {
      "cell_type": "code",
      "source": [
        "def concat(*a):\n",
        "  return ' '.join(a)\n",
        "\n",
        "inp =  list(map(str,input(\"enter list of words\").split()))\n",
        "print(concat(*inp))"
      ],
      "metadata": {
        "colab": {
          "base_uri": "https://localhost:8080/"
        },
        "id": "7FwkLSgfqCRg",
        "outputId": "49d8d6ed-43e0-4bfd-9369-031fe4ec711c"
      },
      "execution_count": null,
      "outputs": [
        {
          "output_type": "stream",
          "name": "stdout",
          "text": [
            "enter list of wordshello world\n",
            "hello world\n"
          ]
        }
      ]
    },
    {
      "cell_type": "markdown",
      "source": [
        "12.\tWrite a function format_name(first, last=\"\") that returns \"Last, First\" if last name is provided, else \"First\"."
      ],
      "metadata": {
        "id": "KUdLCvxNsIXD"
      }
    },
    {
      "cell_type": "code",
      "source": [
        "def format_name(first,last=\"\"):\n",
        "  if last == \"\":\n",
        "    return first\n",
        "  return f\"{last},{first}\"\n",
        "\n",
        "first =  input(\"Enter first name\")\n",
        "last = input(\"enter last name\")\n",
        "print(f\"Passing last name {format_name(first,last)}\")\n",
        "print(f\"Passing only first name {format_name(first)}\")"
      ],
      "metadata": {
        "colab": {
          "base_uri": "https://localhost:8080/"
        },
        "id": "OBcog5Okrfz2",
        "outputId": "a53bb1ec-0758-4712-aef5-459d5f1e5559"
      },
      "execution_count": null,
      "outputs": [
        {
          "output_type": "stream",
          "name": "stdout",
          "text": [
            "Enter first nameFirstname\n",
            "enter last nameLast name\n",
            "Passing last name Last name,Firstname\n",
            "Passing only first name Firstname\n"
          ]
        }
      ]
    },
    {
      "cell_type": "markdown",
      "source": [
        "13.\tWrite a function greet_user(first, last) that returns a message like \"Welcome, First Last!\"."
      ],
      "metadata": {
        "id": "2IxNManPs4O3"
      }
    },
    {
      "cell_type": "code",
      "source": [
        "def greet_user(first,last):\n",
        "  return f\"Welcome, {first} {last}!\"\n",
        "\n",
        "first =  input(\"Enter first name\")\n",
        "last = input(\"enter last name\")\n",
        "print(greet_user(first,last))\n",
        "#"
      ],
      "metadata": {
        "colab": {
          "base_uri": "https://localhost:8080/"
        },
        "id": "UQACI53Ts3j4",
        "outputId": "800c2d6b-910d-43e5-9698-5ba9a578ffcd"
      },
      "execution_count": null,
      "outputs": [
        {
          "output_type": "stream",
          "name": "stdout",
          "text": [
            "Enter first namefirstname\n",
            "enter last namelastname\n",
            "Welcome, firstname lastname!\n"
          ]
        }
      ]
    },
    {
      "cell_type": "markdown",
      "source": [
        "14.\tWrite a lambda function to add two numbers."
      ],
      "metadata": {
        "id": "K48Wr2eAtFAo"
      }
    },
    {
      "cell_type": "code",
      "source": [
        "inp1 = float(input(\"Enter first number\"))\n",
        "inp2 = float(input(\"Enter second number\"))\n",
        "add = lambda a,b: a+b\n",
        "print(add(inp1,inp2))"
      ],
      "metadata": {
        "colab": {
          "base_uri": "https://localhost:8080/"
        },
        "id": "m-YivJcpswLA",
        "outputId": "2b0caab8-f51b-46d0-f328-65236e2d8aa7"
      },
      "execution_count": null,
      "outputs": [
        {
          "output_type": "stream",
          "name": "stdout",
          "text": [
            "Enter first number12\n",
            "Enter second number4\n",
            "16.0\n"
          ]
        }
      ]
    },
    {
      "cell_type": "markdown",
      "source": [
        "15.\tWrite a lambda function mult = lambda *args: that returns the product of all arguments."
      ],
      "metadata": {
        "id": "5ZTf7kK9t3Oj"
      }
    },
    {
      "cell_type": "code",
      "source": [
        "li =[1,2,3,4]\n",
        "\n",
        "mult = lambda *args: 1 if not args else args[0] * mult(*args[1:])\n",
        "print(mult(*li))"
      ],
      "metadata": {
        "id": "bA5bRgk1tv9j",
        "colab": {
          "base_uri": "https://localhost:8080/"
        },
        "outputId": "8b1f99e7-5b9f-4f70-fe39-2c4a345701f3"
      },
      "execution_count": 77,
      "outputs": [
        {
          "output_type": "stream",
          "name": "stdout",
          "text": [
            "24\n"
          ]
        }
      ]
    },
    {
      "cell_type": "markdown",
      "source": [
        "16.\tWrite a one-line lambda expression to flatten a list of pairs like [(a,b), (c,d)] into [a, b, c, d]."
      ],
      "metadata": {
        "id": "WEnxpnwv0nZO"
      }
    },
    {
      "cell_type": "code",
      "source": [
        "li = [[1,2],[3,4]]\n",
        "flat =  lambda li : [ li[i][j] for i in range(len(li)) for j in range(len(li[i]))]\n",
        "print(flat(li))"
      ],
      "metadata": {
        "colab": {
          "base_uri": "https://localhost:8080/"
        },
        "id": "0TdI_f3r0qvX",
        "outputId": "5df06ab3-b390-4c45-dad3-52c9b9d8bf1f"
      },
      "execution_count": null,
      "outputs": [
        {
          "output_type": "stream",
          "name": "stdout",
          "text": [
            "[1, 2, 3, 4]\n"
          ]
        }
      ]
    },
    {
      "cell_type": "markdown",
      "source": [
        "17.\tWrite a recursive function factorial(n) that returns the factorial of a number."
      ],
      "metadata": {
        "id": "ycrwLw7Q2vUm"
      }
    },
    {
      "cell_type": "code",
      "source": [
        "def factorial(n):\n",
        "  if n == 0:\n",
        "    return 1\n",
        "  return n*(factorial(n-1))\n",
        "\n",
        "\n",
        "inp = int(input('enter the number whose factorial should be found'))\n",
        "print(factorial(inp))"
      ],
      "metadata": {
        "colab": {
          "base_uri": "https://localhost:8080/"
        },
        "id": "ygs3Q2Wr-d1U",
        "outputId": "3f38ad51-601c-4f3f-e6a7-41252e778afa"
      },
      "execution_count": null,
      "outputs": [
        {
          "output_type": "stream",
          "name": "stdout",
          "text": [
            "enter the number whose factorial should be found4\n",
            "24\n"
          ]
        }
      ]
    },
    {
      "cell_type": "markdown",
      "source": [
        "18.\tWrite a function apply_twice(func, x) that applies a function twice → func(func(x))."
      ],
      "metadata": {
        "id": "i49DWm-vmQ8W"
      }
    },
    {
      "cell_type": "code",
      "source": [
        "def apply_twice(func,x):\n",
        "  return func(func(x))\n",
        "\n",
        "def add1(x):\n",
        "  return x+1\n",
        "\n",
        "apply_twice(add1,2)"
      ],
      "metadata": {
        "colab": {
          "base_uri": "https://localhost:8080/"
        },
        "id": "ehRFalS3xn1e",
        "outputId": "b3c2d910-0844-4e51-cb23-8ded9ec97496"
      },
      "execution_count": null,
      "outputs": [
        {
          "output_type": "execute_result",
          "data": {
            "text/plain": [
              "4"
            ]
          },
          "metadata": {},
          "execution_count": 11
        }
      ]
    },
    {
      "cell_type": "markdown",
      "source": [
        "19.\tWrite a function inner_demo() that defines and calls an inner function inside it."
      ],
      "metadata": {
        "id": "nD23d-OsyLBi"
      }
    },
    {
      "cell_type": "code",
      "source": [
        "def inner_demo():\n",
        "  print('Inner demo function')\n",
        "  def deeper_demo():\n",
        "    print(\"deeper demo function\")\n",
        "  deeper_demo()\n",
        "\n",
        "inner_demo()\n"
      ],
      "metadata": {
        "colab": {
          "base_uri": "https://localhost:8080/"
        },
        "id": "fHBLY_tjyKJE",
        "outputId": "24bfbff2-6138-4027-e930-6d2f3e404d11"
      },
      "execution_count": null,
      "outputs": [
        {
          "output_type": "stream",
          "name": "stdout",
          "text": [
            "Inner demo function\n",
            "deeper demo function\n"
          ]
        }
      ]
    },
    {
      "cell_type": "markdown",
      "source": [
        "20.\tWrite a function call_function(func, value) that takes another function as a parameter and applies it."
      ],
      "metadata": {
        "id": "ZlH9KFuUyb82"
      }
    },
    {
      "cell_type": "code",
      "source": [
        "def squares_cubes(func,x):\n",
        "  print(func(x))\n",
        "\n",
        "def squ(x):\n",
        "  return x**2\n",
        "\n",
        "def cub(x):\n",
        "  return x**3\n",
        "\n",
        "squares_cubes(squ,5)\n",
        "squares_cubes(cub,5)"
      ],
      "metadata": {
        "colab": {
          "base_uri": "https://localhost:8080/"
        },
        "id": "e7EkaXzdygJm",
        "outputId": "ac20efe0-7074-4952-c069-7822aeb6bfcc"
      },
      "execution_count": null,
      "outputs": [
        {
          "output_type": "stream",
          "name": "stdout",
          "text": [
            "25\n",
            "125\n"
          ]
        }
      ]
    },
    {
      "cell_type": "markdown",
      "source": [
        "21.\tWrite a function square_list(nums) that defines a helper function square(x) inside it and returns a list of squares."
      ],
      "metadata": {
        "id": "VkhgfVjJy3b0"
      }
    },
    {
      "cell_type": "code",
      "source": [
        "def square_list(nums):\n",
        "  def square(x):\n",
        "    return x**2\n",
        "  return list(map(square,nums))\n",
        "\n",
        "print(square_list([1,2,3]))\n"
      ],
      "metadata": {
        "colab": {
          "base_uri": "https://localhost:8080/"
        },
        "id": "Fgr5I1NSzsG3",
        "outputId": "68cced55-a500-45e7-9c9e-39b91b47451d"
      },
      "execution_count": null,
      "outputs": [
        {
          "output_type": "stream",
          "name": "stdout",
          "text": [
            "[1, 4, 9]\n"
          ]
        }
      ]
    },
    {
      "cell_type": "markdown",
      "source": [
        "22.\tWrite a function make_multiplier(m) that returns a new function which multiplies input values by m."
      ],
      "metadata": {
        "id": "7lO7y93Fz_Zq"
      }
    },
    {
      "cell_type": "code",
      "source": [
        "def make_multiplier(m):\n",
        "  def multiply(x):\n",
        "    return x*m\n",
        "  return multiply\n",
        "\n",
        "times3 = make_multiplier(3)\n",
        "print(times3(5))\n",
        "#"
      ],
      "metadata": {
        "colab": {
          "base_uri": "https://localhost:8080/"
        },
        "id": "VYAGcqsJ0YvX",
        "outputId": "647495c7-9f38-4677-cf72-d73888d4e0eb"
      },
      "execution_count": null,
      "outputs": [
        {
          "output_type": "stream",
          "name": "stdout",
          "text": [
            "15\n"
          ]
        }
      ]
    },
    {
      "cell_type": "markdown",
      "source": [
        "23.\tWrite a function filter_primes(nums) that filters prime numbers using a helper is_prime() function."
      ],
      "metadata": {
        "id": "JJvQP7Sv2Vb7"
      }
    },
    {
      "cell_type": "code",
      "source": [
        "def filter_primes(nums):\n",
        "  def isPrime(x):\n",
        "    if x == 2 or x ==3:\n",
        "      return True\n",
        "    else:\n",
        "      for i in range(2,int(x**0.5)+1):\n",
        "        if x%i == 0:\n",
        "          return False\n",
        "      return True\n",
        "\n",
        "  return list(filter(isPrime,nums))\n",
        "\n",
        "print(filter_primes([1,2,3,4,5,6,7,8,9,10]))"
      ],
      "metadata": {
        "colab": {
          "base_uri": "https://localhost:8080/"
        },
        "id": "3GCkRjvy2YBc",
        "outputId": "9d477cd1-fb26-46fb-fed9-dfd747e7ed8f"
      },
      "execution_count": null,
      "outputs": [
        {
          "output_type": "stream",
          "name": "stdout",
          "text": [
            "[1, 2, 3, 5, 7]\n"
          ]
        }
      ]
    },
    {
      "cell_type": "markdown",
      "source": [
        "24.\tWrite a function convert_to_fahrenheit(celsius_list) using map and a lambda.\n",
        "Formula: F = C * 9/5 + 32\n"
      ],
      "metadata": {
        "id": "uRBcKGjJ48XZ"
      }
    },
    {
      "cell_type": "code",
      "source": [
        "def convert_to_fahrenheit(celsius):\n",
        "  return list(map(lambda c: round(c*(9/5),2)+ 32,celsius ))\n",
        "\n",
        "\n",
        "convert_to_fahrenheit([39.2, 36.5, 37.3, 38, 37.8])\n",
        "#"
      ],
      "metadata": {
        "colab": {
          "base_uri": "https://localhost:8080/"
        },
        "id": "DaKt0mcO5BNq",
        "outputId": "26ae729b-61b5-4902-e482-1b59f6b545cc"
      },
      "execution_count": null,
      "outputs": [
        {
          "output_type": "execute_result",
          "data": {
            "text/plain": [
              "[102.56, 97.7, 99.14, 100.4, 100.04]"
            ]
          },
          "metadata": {},
          "execution_count": 41
        }
      ]
    },
    {
      "cell_type": "markdown",
      "source": [
        "25.\tWrite a function apply_if(func, predicate, iterable) that applies a function only to items that pass a condition."
      ],
      "metadata": {
        "id": "5_xiYKsZ6Kmm"
      }
    },
    {
      "cell_type": "code",
      "source": [
        "def isPrime(x):\n",
        "  if x == 2 or x ==3:\n",
        "    return True\n",
        "  else:\n",
        "    for i in range(2,int(x**0.5)+1):\n",
        "      if x%i == 0:\n",
        "        return False\n",
        "    return True\n",
        "\n",
        "def squ(n):\n",
        "  return n**2\n",
        "def apply_if(func,predicate,nums):\n",
        "  ll=[]\n",
        "  for n in nums:\n",
        "    if predicate(n):\n",
        "      ll.append(func(n))\n",
        "    else:\n",
        "      ll.append(n)\n",
        "  return ll\n",
        "print(apply_if(squ,isPrime,[1,2,3,4,5,6,7,8,9,10]))"
      ],
      "metadata": {
        "colab": {
          "base_uri": "https://localhost:8080/"
        },
        "id": "q1ybNdU063qj",
        "outputId": "b066aeb0-e67d-4051-c294-c418c60955e7"
      },
      "execution_count": null,
      "outputs": [
        {
          "output_type": "stream",
          "name": "stdout",
          "text": [
            "[1, 4, 9, 4, 25, 6, 49, 8, 9, 10]\n"
          ]
        }
      ]
    },
    {
      "cell_type": "markdown",
      "source": [
        "26.\tWrite a function curry(func) that converts a two-argument function into a curried version → can be called as f(a)(b)."
      ],
      "metadata": {
        "id": "B7hfmfzi8UTt"
      }
    },
    {
      "cell_type": "code",
      "source": [
        "def maximum(a,b):\n",
        "  if a>b:\n",
        "    return a\n",
        "  return b\n",
        "\n",
        "def curry(func):\n",
        "  def init_a(a):\n",
        "    def init_b(b):\n",
        "      return func(a,b)\n",
        "    return init_b\n",
        "  return init_a\n",
        "\n",
        "find_max = curry(maximum)\n",
        "print(find_max(2)(3))\n",
        "#"
      ],
      "metadata": {
        "id": "H8eCJkBhEPVm"
      },
      "execution_count": null,
      "outputs": []
    },
    {
      "cell_type": "markdown",
      "source": [
        "27.\tWrite a function variadic_sum(*args, **kwargs) that sums all positional arguments and multiplies by a scale factor if provided."
      ],
      "metadata": {
        "id": "OcUxIvQx8ZK5"
      }
    },
    {
      "cell_type": "code",
      "source": [
        "def variadic_sum(*args,**kwargs):\n",
        "  if kwargs.get('scale',False):\n",
        "    print(list(map(lambda x: x*kwargs.get('scale'),args)))\n",
        "    print(sum(args)*kwargs.get('scale'))\n",
        "\n",
        "  else:\n",
        "    print(sum(args))\n",
        "\n",
        "variadic_sum(1,2,3,4,scale=2)"
      ],
      "metadata": {
        "colab": {
          "base_uri": "https://localhost:8080/"
        },
        "id": "C3dsqz2MA95t",
        "outputId": "08eb34bc-8407-4e7e-fb5a-6d7f3ff3e1b3"
      },
      "execution_count": null,
      "outputs": [
        {
          "output_type": "stream",
          "name": "stdout",
          "text": [
            "[2, 4, 6, 8]\n",
            "20\n"
          ]
        }
      ]
    },
    {
      "cell_type": "markdown",
      "source": [
        "28.\tWrite a function sort_by_length(strings) that sorts a list of strings by their length using a lambda as key."
      ],
      "metadata": {
        "id": "2i_-ss6mDyjA"
      }
    },
    {
      "cell_type": "code",
      "source": [
        "def sort_by_length(strings):\n",
        "  return sorted(strings,key = lambda x : len(x))\n",
        "\n",
        "sort_by_length(['a','aaaaa','aaa'])\n",
        "#"
      ],
      "metadata": {
        "colab": {
          "base_uri": "https://localhost:8080/"
        },
        "id": "bBPusOefLUwH",
        "outputId": "d9caf456-22d8-4201-ab1c-5dcb879caeac"
      },
      "execution_count": null,
      "outputs": [
        {
          "output_type": "execute_result",
          "data": {
            "text/plain": [
              "['a', 'aaa', 'aaaaa']"
            ]
          },
          "metadata": {},
          "execution_count": 14
        }
      ]
    },
    {
      "cell_type": "markdown",
      "source": [
        "29.\tCreate [1,2,3,4] → list of their squares."
      ],
      "metadata": {
        "id": "bR_ZWcGoNkQ0"
      }
    },
    {
      "cell_type": "code",
      "source": [
        "li =[1,2,3,4]\n",
        "sq_list =  [s**2 for s in li]\n",
        "print(sq_list)"
      ],
      "metadata": {
        "colab": {
          "base_uri": "https://localhost:8080/"
        },
        "id": "8K_aHCUvNkze",
        "outputId": "7eb51a48-9ae1-422b-898e-094cfaafabb6"
      },
      "execution_count": null,
      "outputs": [
        {
          "output_type": "stream",
          "name": "stdout",
          "text": [
            "[1, 4, 9, 16]\n"
          ]
        }
      ]
    },
    {
      "cell_type": "markdown",
      "source": [
        "30.\tCreate ['a','b','c'] → list of their uppercase versions."
      ],
      "metadata": {
        "id": "ieDTkeGUN-9x"
      }
    },
    {
      "cell_type": "code",
      "source": [
        "str1 = ['a','b','c']\n",
        "up_list = [s.upper() for s in str1]\n",
        "print(up_list)\n",
        "#"
      ],
      "metadata": {
        "id": "iC6wOOScOBq7",
        "colab": {
          "base_uri": "https://localhost:8080/"
        },
        "outputId": "7dcdf74c-d612-4a67-baab-c3edd3d6b885"
      },
      "execution_count": 17,
      "outputs": [
        {
          "output_type": "stream",
          "name": "stdout",
          "text": [
            "['A', 'B', 'C']\n"
          ]
        }
      ]
    },
    {
      "cell_type": "markdown",
      "source": [
        "31.\tMake a list of even numbers from 1 to 20."
      ],
      "metadata": {
        "id": "l4kUp8eqVqAV"
      }
    },
    {
      "cell_type": "code",
      "source": [
        "even_list = [i for i in range(2,20,2)]\n",
        "even_list"
      ],
      "metadata": {
        "colab": {
          "base_uri": "https://localhost:8080/"
        },
        "id": "M98ZKkclVJ_9",
        "outputId": "5d864ebc-63a2-4bff-94a3-64ac4131aaa5"
      },
      "execution_count": 20,
      "outputs": [
        {
          "output_type": "execute_result",
          "data": {
            "text/plain": [
              "[2, 4, 6, 8, 10, 12, 14, 16, 18]"
            ]
          },
          "metadata": {},
          "execution_count": 20
        }
      ]
    },
    {
      "cell_type": "markdown",
      "source": [
        "32.\tGiven words = ['apple', 'bee', 'cat'], create [(word, len(word)) for word in words]."
      ],
      "metadata": {
        "id": "JPAJC-j4e4M8"
      }
    },
    {
      "cell_type": "code",
      "source": [
        "words = ['apple', 'bee', 'cat']\n",
        "tuple_list =  [(word,len(word)) for word in words]\n",
        "tuple_list"
      ],
      "metadata": {
        "colab": {
          "base_uri": "https://localhost:8080/"
        },
        "id": "SfW3NQcye848",
        "outputId": "6ecfc39e-9be6-443a-cfb7-42c4746e1d40"
      },
      "execution_count": 21,
      "outputs": [
        {
          "output_type": "execute_result",
          "data": {
            "text/plain": [
              "[('apple', 5), ('bee', 3), ('cat', 3)]"
            ]
          },
          "metadata": {},
          "execution_count": 21
        }
      ]
    },
    {
      "cell_type": "markdown",
      "source": [
        "33.\tFlatten [[1,2], [3,4], [5]] → [1,2,3,4,5]."
      ],
      "metadata": {
        "id": "bQxUNJEKfKuZ"
      }
    },
    {
      "cell_type": "code",
      "source": [
        "li = [[1,2], [3,4], [5]]\n",
        "flat_list  =  [li[i][j] for i in range(len(li)) for j in range(len(li[i]))]\n",
        "flat_list"
      ],
      "metadata": {
        "colab": {
          "base_uri": "https://localhost:8080/"
        },
        "id": "qPaPpclOfRHF",
        "outputId": "d3543ace-0527-4d0d-bcdf-f4c87cd4fd2d"
      },
      "execution_count": 22,
      "outputs": [
        {
          "output_type": "execute_result",
          "data": {
            "text/plain": [
              "[1, 2, 3, 4, 5]"
            ]
          },
          "metadata": {},
          "execution_count": 22
        }
      ]
    },
    {
      "cell_type": "markdown",
      "source": [
        "34.\tFrom nums = [0,1,2,3], create a list of 'even' or 'odd' strings."
      ],
      "metadata": {
        "id": "E1LDSWEWfjef"
      }
    },
    {
      "cell_type": "code",
      "source": [
        "nums = [0,1,2,3]\n",
        "ll = [\"even\" if n%2==0 else \"odd\" for n in nums]\n",
        "ll"
      ],
      "metadata": {
        "colab": {
          "base_uri": "https://localhost:8080/"
        },
        "id": "a3P1AtkXfkBp",
        "outputId": "d1793b4c-ab3b-4165-ebd3-865ffdf8c0bd"
      },
      "execution_count": 23,
      "outputs": [
        {
          "output_type": "execute_result",
          "data": {
            "text/plain": [
              "['even', 'odd', 'even', 'odd']"
            ]
          },
          "metadata": {},
          "execution_count": 23
        }
      ]
    },
    {
      "cell_type": "markdown",
      "source": [
        "35.\tUsing a comprehension, make a list of booleans showing if numbers in a list are prime (use helper function)."
      ],
      "metadata": {
        "id": "ZzJ-o3Z8fx3u"
      }
    },
    {
      "cell_type": "code",
      "source": [
        "ll =list(map(int,input(\"Enter the array\").split()))\n",
        "def isPrime(n):\n",
        "  if n <2:\n",
        "    return False\n",
        "  elif n <=3:\n",
        "    return True\n",
        "  else:\n",
        "    for i in range(2,int(n**0.5)+1):\n",
        "      if n%i == 0:\n",
        "        return False\n",
        "    return True\n",
        "\n",
        "prime_list = [isPrime(n) for n in ll]\n",
        "prime_list"
      ],
      "metadata": {
        "colab": {
          "base_uri": "https://localhost:8080/"
        },
        "id": "Ge7cs9Gsf1Kj",
        "outputId": "d49f8ef0-1cc3-455f-e3e3-78ec5f9cdd21"
      },
      "execution_count": 24,
      "outputs": [
        {
          "name": "stdout",
          "output_type": "stream",
          "text": [
            "Enter the array1 2 3 4 5 6 7 8\n"
          ]
        },
        {
          "output_type": "execute_result",
          "data": {
            "text/plain": [
              "[False, True, True, False, True, False, True, False]"
            ]
          },
          "metadata": {},
          "execution_count": 24
        }
      ]
    },
    {
      "cell_type": "markdown",
      "source": [
        "36.\tFrom range(1,50), select numbers divisible by both 2 and 3."
      ],
      "metadata": {
        "id": "p3eWt4pVgeNd"
      }
    },
    {
      "cell_type": "code",
      "source": [
        "def div_by(d,n):\n",
        "  if n%d == 0:\n",
        "    return True\n",
        "  return False\n",
        "def chk_div(func):\n",
        "  def sub1(d):\n",
        "    def sub2(n):\n",
        "      return func(d,n)\n",
        "    return sub2\n",
        "  return sub1\n",
        "\n",
        "div_by= chk_div(div_by)\n",
        "div_by_2 = div_by(2)\n",
        "div_by_3 = div_by(3)\n",
        "div_list = list( filter(lambda x:div_by_2(x) and div_by_3(x),[n for n in range(1,50)]))\n",
        "div_list"
      ],
      "metadata": {
        "colab": {
          "base_uri": "https://localhost:8080/"
        },
        "id": "hGPR8ei6ghPu",
        "outputId": "4eae6eb1-00f2-4998-a8e5-e6c167339206"
      },
      "execution_count": 29,
      "outputs": [
        {
          "output_type": "execute_result",
          "data": {
            "text/plain": [
              "[6, 12, 18, 24, 30, 36, 42, 48]"
            ]
          },
          "metadata": {},
          "execution_count": 29
        }
      ]
    },
    {
      "cell_type": "markdown",
      "source": [
        "37.\tCreate coordinate pairs (i, j) where i and j go from 0 to 2."
      ],
      "metadata": {
        "id": "iCwtlpYVkt9T"
      }
    },
    {
      "cell_type": "code",
      "source": [
        "coord_pairs = [(i,j) for i in range(3) for j in range(3)]\n",
        "coord_pairs"
      ],
      "metadata": {
        "colab": {
          "base_uri": "https://localhost:8080/"
        },
        "id": "rnaHgyM6ky4Z",
        "outputId": "4605cc6b-247b-404c-ccf7-102e9a4d1a3d"
      },
      "execution_count": 30,
      "outputs": [
        {
          "output_type": "execute_result",
          "data": {
            "text/plain": [
              "[(0, 0), (0, 1), (0, 2), (1, 0), (1, 1), (1, 2), (2, 0), (2, 1), (2, 2)]"
            ]
          },
          "metadata": {},
          "execution_count": 30
        }
      ]
    },
    {
      "cell_type": "markdown",
      "source": [
        "38.\tFrom ['a b','c d e'], produce a flat list of all words."
      ],
      "metadata": {
        "id": "fp4KDuo1jR8c"
      }
    },
    {
      "cell_type": "code",
      "source": [
        "arr= ['a b','c d e']\n",
        "flat_list = [ss for s in arr for ss in s.split()]\n",
        "flat_list"
      ],
      "metadata": {
        "colab": {
          "base_uri": "https://localhost:8080/"
        },
        "id": "A7s2XJiXmEFZ",
        "outputId": "a3c7c669-bf6a-45cb-c179-83fbe0132066"
      },
      "execution_count": 32,
      "outputs": [
        {
          "output_type": "execute_result",
          "data": {
            "text/plain": [
              "['a', 'b', 'c', 'd', 'e']"
            ]
          },
          "metadata": {},
          "execution_count": 32
        }
      ]
    },
    {
      "cell_type": "markdown",
      "source": [
        "39.\tGiven students = [{'name':'A','score':80}, {'name':'B','score':60}], Create a list of names of students with score ≥ 75."
      ],
      "metadata": {
        "id": "kTrBG1HvmYoB"
      }
    },
    {
      "cell_type": "code",
      "source": [
        "students = [\n",
        "    {'name': 'A', 'score': 80},\n",
        "    {'name': 'B', 'score': 60},\n",
        "    {'name': 'C', 'score': 92},\n",
        "    {'name': 'D', 'score': 74},\n",
        "    {'name': 'E', 'score': 88},\n",
        "    {'name': 'F', 'score': 67},\n",
        "    {'name': 'G', 'score': 95},\n",
        "    {'name': 'H', 'score': 70},\n",
        "    {'name': 'I', 'score': 78},\n",
        "    {'name': 'J', 'score': 83}\n",
        "]\n",
        "\n",
        "for x in students:\n",
        "  print(x)\n",
        "\n",
        "passed_students = [x.get('name') for x in list(filter(lambda x: x.get('score') >= 75, students))]\n",
        "passed_students\n"
      ],
      "metadata": {
        "colab": {
          "base_uri": "https://localhost:8080/"
        },
        "id": "J1-Uon8fmhzV",
        "outputId": "a950ccbe-7baa-426c-bd45-50142b1355f4"
      },
      "execution_count": 37,
      "outputs": [
        {
          "output_type": "stream",
          "name": "stdout",
          "text": [
            "{'name': 'A', 'score': 80}\n",
            "{'name': 'B', 'score': 60}\n",
            "{'name': 'C', 'score': 92}\n",
            "{'name': 'D', 'score': 74}\n",
            "{'name': 'E', 'score': 88}\n",
            "{'name': 'F', 'score': 67}\n",
            "{'name': 'G', 'score': 95}\n",
            "{'name': 'H', 'score': 70}\n",
            "{'name': 'I', 'score': 78}\n",
            "{'name': 'J', 'score': 83}\n"
          ]
        },
        {
          "output_type": "execute_result",
          "data": {
            "text/plain": [
              "['A', 'C', 'E', 'G', 'I', 'J']"
            ]
          },
          "metadata": {},
          "execution_count": 37
        }
      ]
    },
    {
      "cell_type": "markdown",
      "source": [
        "40.\tBuild a list of dictionaries like {'n': n, 'square': n*n} for numbers 1 to 10."
      ],
      "metadata": {
        "id": "65CDFVp7pUFQ"
      }
    },
    {
      "cell_type": "code",
      "source": [
        "dict1={}\n",
        "sq_list = [{i:i**2} for i in range(1,11)]\n",
        "sq_list"
      ],
      "metadata": {
        "colab": {
          "base_uri": "https://localhost:8080/"
        },
        "id": "OaQfQq9dpY9l",
        "outputId": "ae7b979d-1053-40ba-92ac-472cd629f25a"
      },
      "execution_count": 39,
      "outputs": [
        {
          "output_type": "execute_result",
          "data": {
            "text/plain": [
              "[{1: 1},\n",
              " {2: 4},\n",
              " {3: 9},\n",
              " {4: 16},\n",
              " {5: 25},\n",
              " {6: 36},\n",
              " {7: 49},\n",
              " {8: 64},\n",
              " {9: 81},\n",
              " {10: 100}]"
            ]
          },
          "metadata": {},
          "execution_count": 39
        }
      ]
    },
    {
      "cell_type": "markdown",
      "source": [
        "41.\tMerge two lists element-wise into tuples, but include only pairs where both elements are truthy."
      ],
      "metadata": {
        "id": "RF2QPfw8qAAT"
      }
    },
    {
      "cell_type": "code",
      "source": [
        "list1 = [1, 0, 3, '', 5, None]\n",
        "list2 = ['a', 'b', '', 'd', None, 6]\n",
        "\n",
        "min_length = min(len(list1),len(list2))\n",
        "tup_lis = list(filter(lambda x: True if x[0] and x[1] else False,[(list1[i],list2[i]) for i in range(min_length)]))\n",
        "tup_lis"
      ],
      "metadata": {
        "colab": {
          "base_uri": "https://localhost:8080/"
        },
        "id": "NcNY3cCwqEPl",
        "outputId": "c7c58427-38c0-4add-817e-22dd8fa43c50"
      },
      "execution_count": 44,
      "outputs": [
        {
          "output_type": "execute_result",
          "data": {
            "text/plain": [
              "[(1, 'a')]"
            ]
          },
          "metadata": {},
          "execution_count": 44
        }
      ]
    },
    {
      "cell_type": "markdown",
      "source": [
        "42.\tCreate a comprehension to transpose a matrix (swap rows ↔ columns)."
      ],
      "metadata": {
        "id": "8446-hQ8xP45"
      }
    },
    {
      "cell_type": "code",
      "source": [
        "matrix=[[1,2,3],\n",
        " [4,5,6]]\n",
        "row = len(matrix)      # 2\n",
        "col = len(matrix[0])   # 3\n",
        "\n",
        "trans_mat = [[matrix[j][i] for j in range(row)] for i in range(col)]\n",
        "\n",
        "trans_mat"
      ],
      "metadata": {
        "colab": {
          "base_uri": "https://localhost:8080/"
        },
        "id": "YN1l-VOrxVA2",
        "outputId": "a3af6df2-05c2-4e41-ace6-15cf6cac773b"
      },
      "execution_count": 54,
      "outputs": [
        {
          "output_type": "execute_result",
          "data": {
            "text/plain": [
              "[[1, 4], [2, 5], [3, 6]]"
            ]
          },
          "metadata": {},
          "execution_count": 54
        }
      ]
    },
    {
      "cell_type": "markdown",
      "source": [
        "43.\tFlatten a 3-level nested list [[[1,2],[3]],[[4]]] into a single flat list."
      ],
      "metadata": {
        "id": "Usl5i4MC485W"
      }
    },
    {
      "cell_type": "code",
      "source": [
        "arr=  [[[1,2],[3]],[[4]]]\n",
        "flat_array = [arr[i][j][k] for i in range(len(arr)) for j in range(len(arr[i])) for k in range(len(arr[i][j]))]\n",
        "flat_array"
      ],
      "metadata": {
        "colab": {
          "base_uri": "https://localhost:8080/"
        },
        "id": "7S8uo_ZQ49uD",
        "outputId": "4ad891c7-732f-4fcb-f983-364cbc8f2e0c"
      },
      "execution_count": 55,
      "outputs": [
        {
          "output_type": "execute_result",
          "data": {
            "text/plain": [
              "[1, 2, 3, 4]"
            ]
          },
          "metadata": {},
          "execution_count": 55
        }
      ]
    },
    {
      "cell_type": "markdown",
      "source": [
        "44.\tWrite a comprehension that keeps only unique items from a list while preserving order."
      ],
      "metadata": {
        "id": "udT-EaTx5qXp"
      }
    },
    {
      "cell_type": "code",
      "source": [
        "ll = [1,2,2,3,4,5,5,6]\n",
        "set1=set()\n",
        "ul  = [i for i in ll if i not in set1 and not set1.add(i)]\n",
        "ul"
      ],
      "metadata": {
        "colab": {
          "base_uri": "https://localhost:8080/"
        },
        "id": "G452W5we5uG9",
        "outputId": "4b20f883-e94f-46ac-aeb2-2e67e1e0af7a"
      },
      "execution_count": 57,
      "outputs": [
        {
          "output_type": "execute_result",
          "data": {
            "text/plain": [
              "[1, 2, 3, 4, 5, 6]"
            ]
          },
          "metadata": {},
          "execution_count": 57
        }
      ]
    },
    {
      "cell_type": "markdown",
      "source": [
        "45.\tFind all indices (positions) where a given number appears in a list."
      ],
      "metadata": {
        "id": "B8Ifs8LO_SIq"
      }
    },
    {
      "cell_type": "code",
      "source": [
        "n=float(input(\"enter the number\"))\n",
        "list1 =[1,6,7,8,5,6,0,8,6]\n",
        "ind_list = [i for i in range(len(list1)) if list1[i] == n]\n",
        "ind_list"
      ],
      "metadata": {
        "colab": {
          "base_uri": "https://localhost:8080/"
        },
        "id": "yki5NoIG-kBv",
        "outputId": "b19982f4-ba72-45d1-d154-9dcf3563f70a"
      },
      "execution_count": 58,
      "outputs": [
        {
          "name": "stdout",
          "output_type": "stream",
          "text": [
            "enter the number6\n"
          ]
        },
        {
          "output_type": "execute_result",
          "data": {
            "text/plain": [
              "[1, 5, 8]"
            ]
          },
          "metadata": {},
          "execution_count": 58
        }
      ]
    },
    {
      "cell_type": "markdown",
      "source": [
        "46.\tGenerate all palindromic numbers (as strings) between 1 and 999."
      ],
      "metadata": {
        "id": "w70V1MtQAnPx"
      }
    },
    {
      "cell_type": "code",
      "source": [
        "pal_list  = [str(i) for i in range(1,1000) if str(i) == str(i)[::-1] and len(str(i))>2]\n",
        "pal_list"
      ],
      "metadata": {
        "colab": {
          "base_uri": "https://localhost:8080/"
        },
        "id": "DLPurrO8ArZR",
        "outputId": "9e0992c2-e0ac-4be2-8b06-d61cdc46f6d3"
      },
      "execution_count": 60,
      "outputs": [
        {
          "output_type": "execute_result",
          "data": {
            "text/plain": [
              "['101',\n",
              " '111',\n",
              " '121',\n",
              " '131',\n",
              " '141',\n",
              " '151',\n",
              " '161',\n",
              " '171',\n",
              " '181',\n",
              " '191',\n",
              " '202',\n",
              " '212',\n",
              " '222',\n",
              " '232',\n",
              " '242',\n",
              " '252',\n",
              " '262',\n",
              " '272',\n",
              " '282',\n",
              " '292',\n",
              " '303',\n",
              " '313',\n",
              " '323',\n",
              " '333',\n",
              " '343',\n",
              " '353',\n",
              " '363',\n",
              " '373',\n",
              " '383',\n",
              " '393',\n",
              " '404',\n",
              " '414',\n",
              " '424',\n",
              " '434',\n",
              " '444',\n",
              " '454',\n",
              " '464',\n",
              " '474',\n",
              " '484',\n",
              " '494',\n",
              " '505',\n",
              " '515',\n",
              " '525',\n",
              " '535',\n",
              " '545',\n",
              " '555',\n",
              " '565',\n",
              " '575',\n",
              " '585',\n",
              " '595',\n",
              " '606',\n",
              " '616',\n",
              " '626',\n",
              " '636',\n",
              " '646',\n",
              " '656',\n",
              " '666',\n",
              " '676',\n",
              " '686',\n",
              " '696',\n",
              " '707',\n",
              " '717',\n",
              " '727',\n",
              " '737',\n",
              " '747',\n",
              " '757',\n",
              " '767',\n",
              " '777',\n",
              " '787',\n",
              " '797',\n",
              " '808',\n",
              " '818',\n",
              " '828',\n",
              " '838',\n",
              " '848',\n",
              " '858',\n",
              " '868',\n",
              " '878',\n",
              " '888',\n",
              " '898',\n",
              " '909',\n",
              " '919',\n",
              " '929',\n",
              " '939',\n",
              " '949',\n",
              " '959',\n",
              " '969',\n",
              " '979',\n",
              " '989',\n",
              " '999']"
            ]
          },
          "metadata": {},
          "execution_count": 60
        }
      ]
    },
    {
      "cell_type": "markdown",
      "source": [
        "47.\tConvert a dictionary like {'a':[1,2], 'b':[3]} into a list of (key, value) pairs."
      ],
      "metadata": {
        "id": "I2R2gw5LBxEq"
      }
    },
    {
      "cell_type": "code",
      "source": [
        "d = {'a':[1,2], 'b':[3]}\n",
        "ll = [[k,v] for k,v in d.items()]\n",
        "ll"
      ],
      "metadata": {
        "colab": {
          "base_uri": "https://localhost:8080/"
        },
        "id": "2o-pWtIwBzux",
        "outputId": "f9047b7f-c69c-456f-8f82-28de495214cc"
      },
      "execution_count": 62,
      "outputs": [
        {
          "output_type": "execute_result",
          "data": {
            "text/plain": [
              "[['a', [1, 2]], ['b', [3]]]"
            ]
          },
          "metadata": {},
          "execution_count": 62
        }
      ]
    },
    {
      "cell_type": "markdown",
      "source": [
        "48.\tCreate a list of prime pairs (p, q) where both are primes under 100 and p + q is also prime."
      ],
      "metadata": {
        "id": "fWZL-wFPDSWC"
      }
    },
    {
      "cell_type": "code",
      "source": [
        "def isPrime(n):\n",
        "  if n <2:\n",
        "    return False\n",
        "  elif n <=3:\n",
        "    return True\n",
        "  else:\n",
        "    for i in range(2,int(n**0.5)+1):\n",
        "      if n%i == 0:\n",
        "        return False\n",
        "    return True\n",
        "prime_pairs = [(a,b) for a in range(1,101) for b in range(a,101) if (isPrime(a) and isPrime(b)) and isPrime(a+b)]\n",
        "prime_pairs"
      ],
      "metadata": {
        "colab": {
          "base_uri": "https://localhost:8080/"
        },
        "id": "O1-FpkHZDUAk",
        "outputId": "58dae70e-2007-4c0e-eb99-bd45d4ff6fd8"
      },
      "execution_count": 64,
      "outputs": [
        {
          "output_type": "execute_result",
          "data": {
            "text/plain": [
              "[(2, 3), (2, 5), (2, 11), (2, 17), (2, 29), (2, 41), (2, 59), (2, 71)]"
            ]
          },
          "metadata": {},
          "execution_count": 64
        }
      ]
    },
    {
      "cell_type": "markdown",
      "source": [
        "49.\tCreate a lower-triangular matrix (n×n) with 1s below and on the diagonal, 0s above"
      ],
      "metadata": {
        "id": "mvi_WTrTFukd"
      }
    },
    {
      "cell_type": "code",
      "source": [
        "n=3\n",
        "low_tri = [[1 if j<=i else 0 for j in range(n)   ] for i in range(n) ]\n",
        "low_tri"
      ],
      "metadata": {
        "colab": {
          "base_uri": "https://localhost:8080/"
        },
        "id": "h303lAdKFweD",
        "outputId": "fce00edb-71c2-4606-c39e-7739dc8b4e96"
      },
      "execution_count": 68,
      "outputs": [
        {
          "output_type": "execute_result",
          "data": {
            "text/plain": [
              "[[1, 0, 0], [1, 1, 0], [1, 1, 1]]"
            ]
          },
          "metadata": {},
          "execution_count": 68
        }
      ]
    },
    {
      "cell_type": "markdown",
      "source": [
        "50.\tGenerate all possible sequences of length 4 from 'abcd' with no repeated letters."
      ],
      "metadata": {
        "id": "m6ZP-PVrJ0JD"
      }
    },
    {
      "cell_type": "code",
      "source": [
        "s='abcd'\n",
        "possible_seq = [\n",
        "    a+b+c+d\n",
        "  for a in 'abcd'\n",
        "  for b in 'abcd' if b !=a\n",
        "  for c in 'abcd' if c !=a and c!=b\n",
        "  for d in 'abcd' if d !=a and d!=b and  d !=c\n",
        "\n",
        "]\n",
        "print(possible_seq, len(possible_seq))"
      ],
      "metadata": {
        "colab": {
          "base_uri": "https://localhost:8080/"
        },
        "id": "gMeF15ZWJzu4",
        "outputId": "d93a4379-5ebc-41b8-87d7-99e8455ff390"
      },
      "execution_count": 72,
      "outputs": [
        {
          "output_type": "stream",
          "name": "stdout",
          "text": [
            "['abcd', 'abdc', 'acbd', 'acdb', 'adbc', 'adcb', 'bacd', 'badc', 'bcad', 'bcda', 'bdac', 'bdca', 'cabd', 'cadb', 'cbad', 'cbda', 'cdab', 'cdba', 'dabc', 'dacb', 'dbac', 'dbca', 'dcab', 'dcba'] 24\n"
          ]
        }
      ]
    }
  ]
}